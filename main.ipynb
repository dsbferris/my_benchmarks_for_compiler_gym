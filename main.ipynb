{
 "cells": [
  {
   "cell_type": "code",
   "execution_count": 1,
   "metadata": {
    "ExecuteTime": {
     "end_time": "2023-05-23T17:26:14.407427174Z",
     "start_time": "2023-05-23T17:26:14.358286318Z"
    }
   },
   "outputs": [],
   "source": [
    "\n",
    "import requests\n",
    "import tarfile\n",
    "import subprocess\n",
    "import compiler_gym\n",
    "import pathlib\n",
    "import os"
   ]
  },
  {
   "cell_type": "code",
   "execution_count": 2,
   "metadata": {
    "ExecuteTime": {
     "end_time": "2023-05-23T17:26:14.408102597Z",
     "start_time": "2023-05-23T17:26:14.406196334Z"
    }
   },
   "outputs": [],
   "source": [
    "sqlite_link = \"http://www.phoronix-test-suite.com/benchmark-files/sqlite-330-for-speedtest.tar.gz\"\n",
    "sqlite_filename = \"sqlite_test.tar.gz\"\n",
    "sqlite_folder = \"./sqlite\""
   ]
  },
  {
   "cell_type": "code",
   "execution_count": 3,
   "metadata": {
    "ExecuteTime": {
     "end_time": "2023-05-23T17:26:14.408619782Z",
     "start_time": "2023-05-23T17:26:14.406772070Z"
    }
   },
   "outputs": [
    {
     "name": "stdout",
     "output_type": "stream",
     "text": [
      "Found existing sqlite test download\n"
     ]
    }
   ],
   "source": [
    "if not pathlib.Path(sqlite_folder).exists():\n",
    "    if not pathlib.Path(sqlite_filename).exists():\n",
    "        print(\"Downloading sqlite test...\")\n",
    "        with requests.get(sqlite_link, allow_redirects=True) as response:\n",
    "            print(\"Writing sqlite test to file\")\n",
    "            with open(sqlite_filename, \"wb\") as f:\n",
    "                f.write(response.content)\n",
    "\n",
    "    print(\"Unpacking sqlite test\")\n",
    "    with tarfile.open(sqlite_filename) as f:\n",
    "        f.extractall()  # if we give folder \"sqlite\" here, it will duplicate the sqlite folder\n",
    "    print(\"Finished unpacking\")\n",
    "else:\n",
    "    print(\"Found existing sqlite test download\")"
   ]
  },
  {
   "cell_type": "code",
   "execution_count": 4,
   "metadata": {},
   "outputs": [
    {
     "name": "stdout",
     "output_type": "stream",
     "text": [
      "/home/ferris/PyCharmProjects/my_benchmarks_for_compiler_gym\n",
      "/home/ferris/PyCharmProjects/my_benchmarks_for_compiler_gym/sqlite\n"
     ]
    }
   ],
   "source": [
    "print(os.getcwd())\n",
    "os.chdir(\"./sqlite\")\n",
    "print(os.getcwd())"
   ]
  },
  {
   "cell_type": "code",
   "execution_count": 5,
   "metadata": {},
   "outputs": [
    {
     "name": "stdout",
     "output_type": "stream",
     "text": [
      "checking build system type... x86_64-pc-linux-gnu\n",
      "checking host system type... x86_64-pc-linux-gnu\n",
      "checking for gcc... gcc\n",
      "checking whether the C compiler works... yes\n",
      "checking for C compiler default output file name... a.out\n",
      "checking for suffix of executables... \n",
      "checking whether we are cross compiling... no\n",
      "checking for suffix of object files... o\n",
      "checking whether we are using the GNU C compiler... yes\n",
      "checking whether gcc accepts -g... yes\n",
      "checking for gcc option to accept ISO C89... none needed\n",
      "checking for a sed that does not truncate output... /usr/bin/sed\n",
      "checking for grep that handles long lines and -e... /usr/bin/grep\n",
      "checking for egrep... /usr/bin/grep -E\n",
      "checking for fgrep... /usr/bin/grep -F\n",
      "checking for ld used by gcc... /usr/bin/ld\n",
      "checking if the linker (/usr/bin/ld) is GNU ld... yes\n",
      "checking for BSD- or MS-compatible name lister (nm)... /usr/bin/nm -B\n",
      "checking the name lister (/usr/bin/nm -B) interface... BSD nm\n",
      "checking whether ln -s works... yes\n",
      "checking the maximum length of command line arguments... 1572864\n",
      "checking whether the shell understands some XSI constructs... yes\n",
      "checking whether the shell understands \"+=\"... yes\n",
      "checking for /usr/bin/ld option to reload object files... -r\n",
      "checking for objdump... objdump\n",
      "checking how to recognize dependent libraries... pass_all\n",
      "checking for ar... ar\n",
      "checking for strip... strip\n",
      "checking for ranlib... ranlib\n",
      "checking command to parse /usr/bin/nm -B output from gcc object... ok\n",
      "checking how to run the C preprocessor... gcc -E\n",
      "checking for ANSI C header files... yes\n",
      "checking for sys/types.h... yes\n",
      "checking for sys/stat.h... yes\n",
      "checking for stdlib.h... yes\n",
      "checking for string.h... yes\n",
      "checking for memory.h... yes\n",
      "checking for strings.h... yes\n",
      "checking for inttypes.h... yes\n",
      "checking for stdint.h... yes\n",
      "checking for unistd.h... yes\n",
      "checking for dlfcn.h... yes\n",
      "checking for objdir... .libs\n",
      "checking if gcc supports -fno-rtti -fno-exceptions... no\n",
      "checking for gcc option to produce PIC... -fPIC -DPIC\n",
      "checking if gcc PIC flag -fPIC -DPIC works... yes\n",
      "checking if gcc static flag -static works... yes\n",
      "checking if gcc supports -c -o file.o... yes\n",
      "checking if gcc supports -c -o file.o... (cached) yes\n",
      "checking whether the gcc linker (/usr/bin/ld -m elf_x86_64) supports shared libraries... yes\n",
      "checking whether -lc should be explicitly linked in... no\n",
      "checking dynamic linker characteristics... GNU/Linux ld.so\n",
      "checking how to hardcode library paths into programs... immediate\n",
      "checking whether stripping libraries is possible... yes\n",
      "checking if libtool supports shared libraries... yes\n",
      "checking whether to build shared libraries... yes\n",
      "checking whether to build static libraries... yes\n",
      "checking for a BSD-compatible install... /usr/bin/install -c\n",
      "checking for special C compiler options needed for large files... no\n",
      "checking for _FILE_OFFSET_BITS value needed for large files... no\n",
      "checking for int8_t... yes\n",
      "checking for int16_t... yes\n",
      "checking for int32_t... yes\n",
      "checking for int64_t... yes\n",
      "checking for intptr_t... yes\n",
      "checking for uint8_t... yes\n",
      "checking for uint16_t... yes\n",
      "checking for uint32_t... yes\n",
      "checking for uint64_t... yes\n",
      "checking for uintptr_t... yes\n",
      "checking for sys/types.h... (cached) yes\n",
      "checking for stdlib.h... (cached) yes\n",
      "checking for stdint.h... (cached) yes\n",
      "checking for inttypes.h... (cached) yes\n",
      "checking malloc.h usability... yes\n",
      "checking malloc.h presence... yes\n",
      "checking for malloc.h... yes\n",
      "checking for fdatasync... yes\n",
      "checking for gmtime_r... yes\n",
      "checking for isnan... yes\n",
      "checking for localtime_r... yes\n",
      "checking for localtime_s... no\n",
      "checking for malloc_usable_size... yes\n",
      "checking for strchrnul... yes\n",
      "checking for usleep... yes\n",
      "checking for utime... yes\n",
      "checking for pread... yes\n",
      "checking for pread64... yes\n",
      "checking for pwrite... yes\n",
      "checking for pwrite64... yes\n",
      "checking for tclsh8.7... no\n",
      "checking for tclsh8.6... tclsh8.6\n",
      "configure: Version set to 3.30\n",
      "configure: Release set to 3.30.0\n",
      "configure: Version number set to 3030000\n",
      "checking whether to support threadsafe operation... yes\n",
      "checking for library containing pthread_create... none required\n",
      "checking for library containing pthread_mutexattr_init... none required\n",
      "checking whether to support shared library linked as release mode or not... no\n",
      "checking whether to use an in-ram database for temporary tables... no\n",
      "checking if executables have the .exe suffix... unknown\n",
      "checking for Tcl configuration... checking for library containing readline... no\n",
      "checking for library containing tgetent... "
     ]
    },
    {
     "name": "stderr",
     "output_type": "stream",
     "text": [
      "configure: WARNING: Can't find Tcl configuration definitions\n",
      "configure: WARNING: *** Without Tcl the regression tests cannot be executed ***\n",
      "configure: WARNING: *** Consider using --with-tcl=... to define location of Tcl ***\n"
     ]
    },
    {
     "name": "stdout",
     "output_type": "stream",
     "text": [
      "no\n",
      "checking for readline in -lreadline... no\n",
      "checking readline.h usability... no\n",
      "checking readline.h presence... no\n",
      "checking for readline.h... no\n",
      "checking for /usr/include/readline.h... no\n",
      "checking for /usr/include/readline/readline.h... no\n",
      "checking for /usr/local/include/readline.h... no\n",
      "checking for /usr/local/include/readline/readline.h... no\n",
      "checking for /usr/local/readline/include/readline.h... no\n",
      "checking for /usr/local/readline/include/readline/readline.h... no\n",
      "checking for /usr/contrib/include/readline.h... no\n",
      "checking for /usr/contrib/include/readline/readline.h... no\n",
      "checking for /mingw/include/readline.h... no\n",
      "checking for /mingw/include/readline/readline.h... no\n",
      "checking for library containing fdatasync... none required\n",
      "checking zlib.h usability... yes\n",
      "checking zlib.h presence... yes\n",
      "checking for zlib.h... yes\n",
      "checking for library containing deflate... -lz\n",
      "checking for library containing dlopen... none required\n",
      "checking whether to support MEMSYS5... no\n",
      "checking whether to support MEMSYS3... no\n",
      "configure: creating ./config.status\n",
      "config.status: creating Makefile\n",
      "config.status: creating sqlite3.pc\n",
      "config.status: creating config.h\n",
      "config.status: executing libtool commands\n"
     ]
    },
    {
     "data": {
      "text/plain": [
       "CompletedProcess(args='./configure', returncode=0)"
      ]
     },
     "execution_count": 5,
     "metadata": {},
     "output_type": "execute_result"
    }
   ],
   "source": [
    "subprocess.run(\"./configure\")"
   ]
  },
  {
   "cell_type": "code",
   "execution_count": null,
   "metadata": {},
   "outputs": [],
   "source": []
  }
 ],
 "metadata": {
  "kernelspec": {
   "display_name": "Python 3 (ipykernel)",
   "language": "python",
   "name": "python3"
  },
  "language_info": {
   "codemirror_mode": {
    "name": "ipython",
    "version": 3
   },
   "file_extension": ".py",
   "mimetype": "text/x-python",
   "name": "python",
   "nbconvert_exporter": "python",
   "pygments_lexer": "ipython3",
   "version": "3.10.7"
  }
 },
 "nbformat": 4,
 "nbformat_minor": 1
}
